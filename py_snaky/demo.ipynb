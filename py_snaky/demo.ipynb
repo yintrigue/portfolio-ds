{
 "cells": [
  {
   "cell_type": "markdown",
   "metadata": {},
   "source": [
    "# Snaky Demo\n",
    "Author: Tim Chen ( chentim@berkeley.edu )   \n",
    "Tech Stack: PyGame, Python  "
   ]
  },
  {
   "cell_type": "code",
   "execution_count": 1,
   "metadata": {},
   "outputs": [
    {
     "name": "stdout",
     "output_type": "stream",
     "text": [
      "pygame 2.0.0.dev6 (SDL 2.0.10, python 3.8.2)\n",
      "Hello from the pygame community. https://www.pygame.org/contribute.html\n"
     ]
    }
   ],
   "source": [
    "%load_ext autoreload\n",
    "%autoreload 2\n",
    "\n",
    "import sys\n",
    "sys.path.append('./src')\n",
    "from snaky import Snaky, SmartSnaky"
   ]
  },
  {
   "cell_type": "markdown",
   "metadata": {},
   "source": [
    "## Playing Snaky Manually"
   ]
  },
  {
   "cell_type": "code",
   "execution_count": 6,
   "metadata": {},
   "outputs": [
    {
     "name": "stdout",
     "output_type": "stream",
     "text": [
      "Game over! Have a nice day!\n"
     ]
    }
   ],
   "source": [
    "snake = SmartSnaky(\n",
    "            snake_sprite_sheet_url='game_assets/skin_grey/sprite.png',\n",
    "            apple_sprite_url='game_assets/skin_grey/apple.png',\n",
    "            font_url='game_assets/retro_computer.ttf',\n",
    "            board_color=(255, 255, 255))\n",
    "\n",
    "snake.play()"
   ]
  },
  {
   "cell_type": "markdown",
   "metadata": {},
   "source": [
    "## Generating Training Data & Game Replay"
   ]
  },
  {
   "cell_type": "code",
   "execution_count": 7,
   "metadata": {},
   "outputs": [
    {
     "name": "stdout",
     "output_type": "stream",
     "text": [
      "A total of 38,308 examples have been generated...\n",
      "Game over! Have a nice day!\n"
     ]
    }
   ],
   "source": [
    "snake = SmartSnaky(\n",
    "            snake_sprite_sheet_url='game_assets/skin_grey/sprite.png',\n",
    "            apple_sprite_url='game_assets/skin_grey/apple.png',\n",
    "            font_url='game_assets/retro_computer.ttf',\n",
    "            board_color=(255, 255, 255))\n",
    "\n",
    "# generate random data for model training\n",
    "snake.simulate(n_game=10000, csv='train.csv', vision_mode='advanced')\n",
    "\n",
    "# replay a game from training data\n",
    "snake.replay(\n",
    "        game_id=0,\n",
    "        fps=3,\n",
    "        csv='train.csv',\n",
    "        ending=True,\n",
    "        print_data=False)"
   ]
  },
  {
   "cell_type": "markdown",
   "metadata": {},
   "source": [
    "## Playing Snaky Using Neural Net Brain"
   ]
  },
  {
   "cell_type": "code",
   "execution_count": 8,
   "metadata": {},
   "outputs": [
    {
     "name": "stdout",
     "output_type": "stream",
     "text": [
      "A total of 38,644 examples have been generated...\n",
      "Epoch 1/20\n",
      "1208/1208 [==============================] - 1s 1ms/step - loss: 0.9102\n",
      "Epoch 2/20\n",
      "1208/1208 [==============================] - 1s 1ms/step - loss: 0.5051\n",
      "Epoch 3/20\n",
      "1208/1208 [==============================] - 1s 1ms/step - loss: 0.3258\n",
      "Epoch 4/20\n",
      "1208/1208 [==============================] - 2s 1ms/step - loss: 0.2218\n",
      "Epoch 5/20\n",
      "1208/1208 [==============================] - 2s 1ms/step - loss: 0.1594\n",
      "Epoch 6/20\n",
      "1208/1208 [==============================] - 2s 1ms/step - loss: 0.1313\n",
      "Epoch 7/20\n",
      "1208/1208 [==============================] - 2s 1ms/step - loss: 0.1101\n",
      "Epoch 8/20\n",
      "1208/1208 [==============================] - 1s 1ms/step - loss: 0.0925\n",
      "Epoch 9/20\n",
      "1208/1208 [==============================] - 2s 1ms/step - loss: 0.0779\n",
      "Epoch 10/20\n",
      "1208/1208 [==============================] - 2s 1ms/step - loss: 0.0486\n",
      "Epoch 11/20\n",
      "1208/1208 [==============================] - 1s 1ms/step - loss: 0.0313\n",
      "Epoch 12/20\n",
      "1208/1208 [==============================] - 2s 1ms/step - loss: 0.0207\n",
      "Epoch 13/20\n",
      "1208/1208 [==============================] - 2s 1ms/step - loss: 0.0138\n",
      "Epoch 14/20\n",
      "1208/1208 [==============================] - 2s 2ms/step - loss: 0.0095\n",
      "Epoch 15/20\n",
      "1208/1208 [==============================] - 3s 2ms/step - loss: 0.0066\n",
      "Epoch 16/20\n",
      "1208/1208 [==============================] - 2s 2ms/step - loss: 0.0047\n",
      "Epoch 17/20\n",
      "1208/1208 [==============================] - 2s 1ms/step - loss: 0.0034\n",
      "Epoch 18/20\n",
      "1208/1208 [==============================] - 2s 2ms/step - loss: 0.0024\n",
      "Epoch 19/20\n",
      "1208/1208 [==============================] - 3s 2ms/step - loss: 0.0017\n",
      "Epoch 20/20\n",
      "1208/1208 [==============================] - 3s 2ms/step - loss: 0.0012\n",
      "\n",
      "              precision    recall  f1-score   support\n",
      "\n",
      "           0       1.00      1.00      1.00     10000\n",
      "           1       1.00      1.00      1.00     12567\n",
      "           2       1.00      1.00      1.00     16077\n",
      "\n",
      "    accuracy                           1.00     38644\n",
      "   macro avg       1.00      1.00      1.00     38644\n",
      "weighted avg       1.00      1.00      1.00     38644\n",
      "\n",
      "Playing game using brain v3...\n",
      "A total of 147 examples have been generated...\n",
      "Game over! Have a nice day!\n"
     ]
    }
   ],
   "source": [
    "def enable_brain_v3(\n",
    "            snake: SmartSnaky,\n",
    "            build_training_data: bool = True,\n",
    "            do_training: bool = True,\n",
    "            auto_play: bool = True) -> None:\n",
    "    \"\"\"Build and train snake's artificial brain model v3. Autoplay the game \n",
    "    using the trained brain.\n",
    "    \n",
    "    Brain Model v3: Neural Net + Advanced Vision\n",
    "    Notes: Advanced Vision allows the snake to see see obstacles and apples.\n",
    "    \"\"\"\n",
    "    # generate data\n",
    "    if build_training_data:\n",
    "        snake.simulate(n_game=10000, csv='train.csv', vision_mode='advanced')\n",
    "\n",
    "    # training\n",
    "    if do_training:\n",
    "        snake.train(\n",
    "                brain_model='neural_net',\n",
    "                vision='advanced',\n",
    "                csv='train.csv',\n",
    "                epoch=20,\n",
    "                batch_size=32,\n",
    "                weights_save_path='brain.h5')\n",
    "\n",
    "        # testing model\n",
    "        snake.test(\n",
    "                brain_model='neural_net',\n",
    "                vision='advanced',\n",
    "                model_weights='brain.h5',\n",
    "                test_csv='train.csv',\n",
    "                sig_thd=0.5)\n",
    "\n",
    "    # predict & replay\n",
    "    print('Playing game using brain v3...')\n",
    "    if auto_play:\n",
    "        snake.autoplay(\n",
    "                n_move=1000,\n",
    "                brain_model='neural_net',\n",
    "                vision = 'advanced',\n",
    "                model_weights='brain.h5',\n",
    "                output_csv='autoplay.csv',\n",
    "                replay_fps=12,\n",
    "                verbose=False)\n",
    "\n",
    "# create a new snake\n",
    "snake = SmartSnaky(\n",
    "            snake_sprite_sheet_url='game_assets/skin_grey/sprite.png',\n",
    "            apple_sprite_url='game_assets/skin_grey/apple.png',\n",
    "            font_url='game_assets/retro_computer.ttf',\n",
    "            board_color=(255, 255, 255))\n",
    "\n",
    "# train and autoplay using brain model v3 \n",
    "enable_brain_v3(\n",
    "            snake=snake,\n",
    "            build_training_data=True,\n",
    "            do_training=True,\n",
    "            auto_play=True)"
   ]
  },
  {
   "cell_type": "markdown",
   "metadata": {},
   "source": [
    "## Quit Snaky"
   ]
  },
  {
   "cell_type": "code",
   "execution_count": 5,
   "metadata": {},
   "outputs": [
    {
     "name": "stdout",
     "output_type": "stream",
     "text": [
      "Game over! Have a nice day!\n"
     ]
    }
   ],
   "source": [
    "snake.quit()"
   ]
  }
 ],
 "metadata": {
  "kernelspec": {
   "display_name": "Python 3",
   "language": "python",
   "name": "python3"
  },
  "language_info": {
   "codemirror_mode": {
    "name": "ipython",
    "version": 3
   },
   "file_extension": ".py",
   "mimetype": "text/x-python",
   "name": "python",
   "nbconvert_exporter": "python",
   "pygments_lexer": "ipython3",
   "version": "3.8.2"
  },
  "toc-autonumbering": false
 },
 "nbformat": 4,
 "nbformat_minor": 4
}
