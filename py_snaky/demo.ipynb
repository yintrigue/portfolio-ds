{
 "cells": [
  {
   "cell_type": "markdown",
   "metadata": {},
   "source": [
    "# Snaky Demo\n",
    "Author: Tim Chen ( chentim@berkeley.edu )   \n",
    "Tech Stack: PyGame, Python  "
   ]
  },
  {
   "cell_type": "code",
   "execution_count": 10,
   "metadata": {},
   "outputs": [],
   "source": [
    "# append ./src to sys paths where all Snaky game moudles reside  \n",
    "import sys\n",
    "sys.path.append('./src')\n",
    "\n",
    "from snaky import Snaky\n",
    "\n",
    "snake = Snaky('assets/sprite.jpg', \n",
    "              'assets/apple.jpg',\n",
    "              'assets/retro_computer.ttf')\n",
    "snake.play()"
   ]
  }
 ],
 "metadata": {
  "kernelspec": {
   "display_name": "Python 3",
   "language": "python",
   "name": "python3"
  },
  "language_info": {
   "codemirror_mode": {
    "name": "ipython",
    "version": 3
   },
   "file_extension": ".py",
   "mimetype": "text/x-python",
   "name": "python",
   "nbconvert_exporter": "python",
   "pygments_lexer": "ipython3",
   "version": "3.8.2"
  },
  "toc-autonumbering": false
 },
 "nbformat": 4,
 "nbformat_minor": 4
}
