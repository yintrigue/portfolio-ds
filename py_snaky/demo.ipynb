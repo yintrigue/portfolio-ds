{
 "cells": [
  {
   "cell_type": "markdown",
   "metadata": {},
   "source": [
    "# Snaky Demo\n",
    "Author: Tim Chen ( chentim@berkeley.edu )   \n",
    "Tech Stack: PyGame, Python  "
   ]
  },
  {
   "cell_type": "code",
   "execution_count": null,
   "metadata": {},
   "outputs": [],
   "source": [
    "%load_ext autoreload\n",
    "%autoreload 2\n",
    "\n",
    "### append ./src (where all Snaky game moudles reside) to sys paths\n",
    "import sys\n",
    "sys.path.append('./src')\n",
    "from snaky import Snaky, SnakySimulator"
   ]
  },
  {
   "cell_type": "code",
   "execution_count": null,
   "metadata": {},
   "outputs": [],
   "source": [
    "# play the Snake game\n",
    "snake = Snaky('assets/sprite.jpg', \n",
    "                       'assets/apple.jpg',\n",
    "                       'assets/retro_computer.ttf')\n",
    "snake.play()"
   ]
  },
  {
   "cell_type": "code",
   "execution_count": 16,
   "metadata": {},
   "outputs": [],
   "source": [
    "# simulator generate and replay training data\n",
    "snake = SnakySimulator('assets/sprite.jpg',\n",
    "                       'assets/apple.jpg',\n",
    "                       'assets/retro_computer.ttf')\n",
    "snake.simulate(num_game=1000, csv='training_data.csv')\n",
    "snake.replay(game_id=30, \n",
    "             fps=3, \n",
    "             csv='training_data.csv', \n",
    "             ending=False, \n",
    "             print_data=True)"
   ]
  },
  {
   "cell_type": "code",
   "execution_count": 12,
   "metadata": {},
   "outputs": [],
   "source": [
    "snake.quit()"
   ]
  }
 ],
 "metadata": {
  "kernelspec": {
   "display_name": "Python 3",
   "language": "python",
   "name": "python3"
  },
  "language_info": {
   "codemirror_mode": {
    "name": "ipython",
    "version": 3
   },
   "file_extension": ".py",
   "mimetype": "text/x-python",
   "name": "python",
   "nbconvert_exporter": "python",
   "pygments_lexer": "ipython3",
   "version": "3.8.2"
  },
  "toc-autonumbering": false
 },
 "nbformat": 4,
 "nbformat_minor": 4
}
