{
 "cells": [
  {
   "cell_type": "markdown",
   "metadata": {
    "id": "QvowpfKM7Qot"
   },
   "source": [
    "## Explore the Squad Dataset 2.0\n",
    "\n"
   ]
  },
  {
   "cell_type": "code",
   "execution_count": null,
   "metadata": {},
   "outputs": [],
   "source": [
    "#@title specify file_path for Squad Dataset\n",
    "from google.colab import drive\n",
    "import json\n",
    "import os\n",
    "\n",
    "drive.mount('/content/drive')\n",
    "\n",
    "squad_train_path = '' # path to train-v1.1.json on gdrive\n",
    "squad_dev_path = '' # path to dev-v1.1.json on gdrive"
   ]
  },
  {
   "cell_type": "code",
   "execution_count": 41,
   "metadata": {
    "id": "Sn3DeGwl5dAh"
   },
   "outputs": [],
   "source": [
    "with open(squad_train_path) as file_d:\n",
    "    squad_train_data = json.load(file_d)\n",
    "    \n",
    "with open(squad_dev_path) as file_d:\n",
    "    squad_dev_data = json.load(file_d)"
   ]
  },
  {
   "cell_type": "markdown",
   "metadata": {
    "id": "XRxmQNlHHwYb"
   },
   "source": [
    "## Main Parse Function for Squad Dataset"
   ]
  },
  {
   "cell_type": "code",
   "execution_count": 54,
   "metadata": {
    "id": "wL1KdYju9RVI"
   },
   "outputs": [],
   "source": [
    "def parse_squad_datset(squad_dataset: dict) -> dict:\n",
    "    \"\"\"\n",
    "    input: List of dict, each dict is an exmample.\n",
    "\n",
    "    ouput: dict with 4 item. Key: str; value: List[str]\n",
    "    {\n",
    "        contexts = [str1, ...] # note: contexts is optional\n",
    "        question_ids = [str1, ...] # from id\n",
    "        questions: [str1, ..] # from question\n",
    "        answers: [str1, ...]\n",
    "    }\n",
    "    \n",
    "    \"\"\"\n",
    "    contexts = []\n",
    "    question_ids = []\n",
    "    questions = []\n",
    "    answers = []\n",
    "\n",
    "    data = squad_dataset[\"data\"]\n",
    "    for example in data:\n",
    "        paragraphs = example[\"paragraphs\"]\n",
    "        for paragraph in paragraphs: # paragraphs: List[json]\n",
    "            context = paragraph[\"context\"]\n",
    "            qas = paragraph[\"qas\"]\n",
    "            for qa in qas:\n",
    "                question = qa[\"question\"]\n",
    "                question_id = qa[\"id\"]\n",
    "                answer = qa[\"answers\"][0][\"text\"]\n",
    "\n",
    "                # appending\n",
    "                contexts.append(context)\n",
    "                question_ids.append(question_id)\n",
    "                questions.append(question)\n",
    "                answers.append(answer)\n",
    "\n",
    "    return {\n",
    "        \"context\": contexts, \n",
    "        \"question_ids\": question_ids,\n",
    "        \"questions\": questions,\n",
    "        \"answers\": answers,\n",
    "    }"
   ]
  },
  {
   "cell_type": "code",
   "execution_count": 67,
   "metadata": {
    "id": "0QP2NI3YFY8V"
   },
   "outputs": [],
   "source": [
    "#@title define function: check_saved_dataset() { display-mode: \"both\" }\n",
    "\n",
    "def check_saved_dataset(gs_dataset, i = 5):\n",
    "    j = 0 \n",
    "    # print(f\"dataset: {string(gs_dataset)}\")\n",
    "\n",
    "    print(f\"\"\"\n",
    "    len of context: {len(gs_dataset[\"context\"])}\n",
    "    len of questions: {len(gs_dataset[\"questions\"])}\n",
    "    len of ids: {len(gs_dataset[\"question_ids\"])}\n",
    "    len of answers: {len(gs_dataset[\"answers\"])}\n",
    "    \"\"\")\n",
    "    \n",
    "    for context, question, answer, id in zip(gs_dataset[\"context\"], gs_dataset[\"questions\"], gs_dataset[\"answers\"], gs_dataset[\"question_ids\"]):\n",
    "        print(f\"context: {context}\")\n",
    "        print(f\"question: {question}\")\n",
    "        print(f\"answer: {answer}\")\n",
    "        print(f\"id: {id}\")\n",
    "        \n",
    "        print(\"\\n\")\n",
    "        j += 1\n",
    "        if j == i:\n",
    "            break\n"
   ]
  },
  {
   "cell_type": "code",
   "execution_count": 68,
   "metadata": {
    "colab": {
     "base_uri": "https://localhost:8080/"
    },
    "id": "9pVB88b5GaUI",
    "outputId": "f2483e5e-3c1c-4f09-fd2d-2cb4e8c50c6e"
   },
   "outputs": [
    {
     "name": "stdout",
     "output_type": "stream",
     "text": [
      "\n",
      "    len of context: 10570\n",
      "    len of questions: 10570\n",
      "    len of ids: 10570\n",
      "    len of answers: 10570\n",
      "    \n",
      "context: Super Bowl 50 was an American football game to determine the champion of the National Football League (NFL) for the 2015 season. The American Football Conference (AFC) champion Denver Broncos defeated the National Football Conference (NFC) champion Carolina Panthers 24–10 to earn their third Super Bowl title. The game was played on February 7, 2016, at Levi's Stadium in the San Francisco Bay Area at Santa Clara, California. As this was the 50th Super Bowl, the league emphasized the \"golden anniversary\" with various gold-themed initiatives, as well as temporarily suspending the tradition of naming each Super Bowl game with Roman numerals (under which the game would have been known as \"Super Bowl L\"), so that the logo could prominently feature the Arabic numerals 50.\n",
      "question: Which NFL team represented the AFC at Super Bowl 50?\n",
      "answer: Denver Broncos\n",
      "id: 56be4db0acb8001400a502ec\n",
      "\n",
      "\n",
      "context: Super Bowl 50 was an American football game to determine the champion of the National Football League (NFL) for the 2015 season. The American Football Conference (AFC) champion Denver Broncos defeated the National Football Conference (NFC) champion Carolina Panthers 24–10 to earn their third Super Bowl title. The game was played on February 7, 2016, at Levi's Stadium in the San Francisco Bay Area at Santa Clara, California. As this was the 50th Super Bowl, the league emphasized the \"golden anniversary\" with various gold-themed initiatives, as well as temporarily suspending the tradition of naming each Super Bowl game with Roman numerals (under which the game would have been known as \"Super Bowl L\"), so that the logo could prominently feature the Arabic numerals 50.\n",
      "question: Which NFL team represented the NFC at Super Bowl 50?\n",
      "answer: Carolina Panthers\n",
      "id: 56be4db0acb8001400a502ed\n",
      "\n",
      "\n",
      "context: Super Bowl 50 was an American football game to determine the champion of the National Football League (NFL) for the 2015 season. The American Football Conference (AFC) champion Denver Broncos defeated the National Football Conference (NFC) champion Carolina Panthers 24–10 to earn their third Super Bowl title. The game was played on February 7, 2016, at Levi's Stadium in the San Francisco Bay Area at Santa Clara, California. As this was the 50th Super Bowl, the league emphasized the \"golden anniversary\" with various gold-themed initiatives, as well as temporarily suspending the tradition of naming each Super Bowl game with Roman numerals (under which the game would have been known as \"Super Bowl L\"), so that the logo could prominently feature the Arabic numerals 50.\n",
      "question: Where did Super Bowl 50 take place?\n",
      "answer: Santa Clara, California\n",
      "id: 56be4db0acb8001400a502ee\n",
      "\n",
      "\n",
      "context: Super Bowl 50 was an American football game to determine the champion of the National Football League (NFL) for the 2015 season. The American Football Conference (AFC) champion Denver Broncos defeated the National Football Conference (NFC) champion Carolina Panthers 24–10 to earn their third Super Bowl title. The game was played on February 7, 2016, at Levi's Stadium in the San Francisco Bay Area at Santa Clara, California. As this was the 50th Super Bowl, the league emphasized the \"golden anniversary\" with various gold-themed initiatives, as well as temporarily suspending the tradition of naming each Super Bowl game with Roman numerals (under which the game would have been known as \"Super Bowl L\"), so that the logo could prominently feature the Arabic numerals 50.\n",
      "question: Which NFL team won Super Bowl 50?\n",
      "answer: Denver Broncos\n",
      "id: 56be4db0acb8001400a502ef\n",
      "\n",
      "\n",
      "context: Super Bowl 50 was an American football game to determine the champion of the National Football League (NFL) for the 2015 season. The American Football Conference (AFC) champion Denver Broncos defeated the National Football Conference (NFC) champion Carolina Panthers 24–10 to earn their third Super Bowl title. The game was played on February 7, 2016, at Levi's Stadium in the San Francisco Bay Area at Santa Clara, California. As this was the 50th Super Bowl, the league emphasized the \"golden anniversary\" with various gold-themed initiatives, as well as temporarily suspending the tradition of naming each Super Bowl game with Roman numerals (under which the game would have been known as \"Super Bowl L\"), so that the logo could prominently feature the Arabic numerals 50.\n",
      "question: What color was used to emphasize the 50th anniversary of the Super Bowl?\n",
      "answer: gold\n",
      "id: 56be4db0acb8001400a502f0\n",
      "\n",
      "\n"
     ]
    }
   ],
   "source": [
    "check_saved_dataset(parsed_squad_dev_dataset)"
   ]
  },
  {
   "cell_type": "code",
   "execution_count": 69,
   "metadata": {
    "colab": {
     "base_uri": "https://localhost:8080/"
    },
    "id": "jTmIOf8IGc4N",
    "outputId": "8de051eb-cd58-4698-bbd3-d50dde16e957"
   },
   "outputs": [
    {
     "name": "stdout",
     "output_type": "stream",
     "text": [
      "\n",
      "    len of context: 87599\n",
      "    len of questions: 87599\n",
      "    len of ids: 87599\n",
      "    len of answers: 87599\n",
      "    \n",
      "context: Architecturally, the school has a Catholic character. Atop the Main Building's gold dome is a golden statue of the Virgin Mary. Immediately in front of the Main Building and facing it, is a copper statue of Christ with arms upraised with the legend \"Venite Ad Me Omnes\". Next to the Main Building is the Basilica of the Sacred Heart. Immediately behind the basilica is the Grotto, a Marian place of prayer and reflection. It is a replica of the grotto at Lourdes, France where the Virgin Mary reputedly appeared to Saint Bernadette Soubirous in 1858. At the end of the main drive (and in a direct line that connects through 3 statues and the Gold Dome), is a simple, modern stone statue of Mary.\n",
      "question: To whom did the Virgin Mary allegedly appear in 1858 in Lourdes France?\n",
      "answer: Saint Bernadette Soubirous\n",
      "id: 5733be284776f41900661182\n",
      "\n",
      "\n",
      "context: Architecturally, the school has a Catholic character. Atop the Main Building's gold dome is a golden statue of the Virgin Mary. Immediately in front of the Main Building and facing it, is a copper statue of Christ with arms upraised with the legend \"Venite Ad Me Omnes\". Next to the Main Building is the Basilica of the Sacred Heart. Immediately behind the basilica is the Grotto, a Marian place of prayer and reflection. It is a replica of the grotto at Lourdes, France where the Virgin Mary reputedly appeared to Saint Bernadette Soubirous in 1858. At the end of the main drive (and in a direct line that connects through 3 statues and the Gold Dome), is a simple, modern stone statue of Mary.\n",
      "question: What is in front of the Notre Dame Main Building?\n",
      "answer: a copper statue of Christ\n",
      "id: 5733be284776f4190066117f\n",
      "\n",
      "\n",
      "context: Architecturally, the school has a Catholic character. Atop the Main Building's gold dome is a golden statue of the Virgin Mary. Immediately in front of the Main Building and facing it, is a copper statue of Christ with arms upraised with the legend \"Venite Ad Me Omnes\". Next to the Main Building is the Basilica of the Sacred Heart. Immediately behind the basilica is the Grotto, a Marian place of prayer and reflection. It is a replica of the grotto at Lourdes, France where the Virgin Mary reputedly appeared to Saint Bernadette Soubirous in 1858. At the end of the main drive (and in a direct line that connects through 3 statues and the Gold Dome), is a simple, modern stone statue of Mary.\n",
      "question: The Basilica of the Sacred heart at Notre Dame is beside to which structure?\n",
      "answer: the Main Building\n",
      "id: 5733be284776f41900661180\n",
      "\n",
      "\n",
      "context: Architecturally, the school has a Catholic character. Atop the Main Building's gold dome is a golden statue of the Virgin Mary. Immediately in front of the Main Building and facing it, is a copper statue of Christ with arms upraised with the legend \"Venite Ad Me Omnes\". Next to the Main Building is the Basilica of the Sacred Heart. Immediately behind the basilica is the Grotto, a Marian place of prayer and reflection. It is a replica of the grotto at Lourdes, France where the Virgin Mary reputedly appeared to Saint Bernadette Soubirous in 1858. At the end of the main drive (and in a direct line that connects through 3 statues and the Gold Dome), is a simple, modern stone statue of Mary.\n",
      "question: What is the Grotto at Notre Dame?\n",
      "answer: a Marian place of prayer and reflection\n",
      "id: 5733be284776f41900661181\n",
      "\n",
      "\n",
      "context: Architecturally, the school has a Catholic character. Atop the Main Building's gold dome is a golden statue of the Virgin Mary. Immediately in front of the Main Building and facing it, is a copper statue of Christ with arms upraised with the legend \"Venite Ad Me Omnes\". Next to the Main Building is the Basilica of the Sacred Heart. Immediately behind the basilica is the Grotto, a Marian place of prayer and reflection. It is a replica of the grotto at Lourdes, France where the Virgin Mary reputedly appeared to Saint Bernadette Soubirous in 1858. At the end of the main drive (and in a direct line that connects through 3 statues and the Gold Dome), is a simple, modern stone statue of Mary.\n",
      "question: What sits on top of the Main Building at Notre Dame?\n",
      "answer: a golden statue of the Virgin Mary\n",
      "id: 5733be284776f4190066117e\n",
      "\n",
      "\n"
     ]
    }
   ],
   "source": [
    "check_saved_dataset(parsed_squad_train_dataset)"
   ]
  },
  {
   "cell_type": "code",
   "execution_count": 81,
   "metadata": {
    "id": "nBBBrPf3K8SZ"
   },
   "outputs": [],
   "source": [
    "#@title define functin: write_to_gs\n",
    "import tensorflow as tf\n",
    "# authenticate\n",
    "# For accessing data from google storage (gs://)\n",
    "from google.colab import auth\n",
    "auth.authenticate_user()\n",
    "\n",
    "def write_to_gs(path, parsed_dataset):\n",
    "    with tf.io.gfile.GFile(path, 'w') as json_file:\n",
    "        json.dump(parsed_dataset, json_file)\n"
   ]
  },
  {
   "cell_type": "code",
   "execution_count": 66,
   "metadata": {
    "id": "DmrOs6pqFPmw"
   },
   "outputs": [],
   "source": [
    "parsed_squad_train_dataset = parse_squad_datset(squad_train_data)\n",
    "parsed_squad_dev_dataset = parse_squad_datset(squad_dev_data)"
   ]
  },
  {
   "cell_type": "code",
   "execution_count": 82,
   "metadata": {
    "id": "2Q03_o1oIEdA"
   },
   "outputs": [],
   "source": [
    "#@title Write parsed_squad data to Google Storage\n",
    "squad_data_path = '' # path on gs to save parsed data\n",
    "squad_train_data_path = os.path.join(squad_data_path, \"squad1.1_train_data_parsed.json\")\n",
    "squad_dev_data_path = os.path.join(squad_data_path, \"squad1.1_dev_data_parsed.json\")\n",
    "\n",
    "\n",
    "write_to_gs(squad_train_data_path, parsed_squad_train_dataset)\n",
    "write_to_gs(squad_dev_data_path, parsed_squad_dev_dataset)"
   ]
  },
  {
   "cell_type": "code",
   "execution_count": null,
   "metadata": {
    "id": "Dm4NEeQwMoCJ"
   },
   "outputs": [],
   "source": [
    "# download the file from google storage\n",
    "!gsutil cp # copy parsed file to local\n",
    "with open(\"/tmp/squad_dev_data_parsed.json\") as a_file:\n",
    "    check_squad_dev = json.load(a_file)\n",
    "\n",
    "check_saved_dataset(check_squad_dev)"
   ]
  }
 ],
 "metadata": {
  "colab": {
   "collapsed_sections": [],
   "name": "parsing_squad_dataset.ipynb",
   "provenance": []
  },
  "kernelspec": {
   "display_name": "Python 3",
   "language": "python",
   "name": "python3"
  },
  "language_info": {
   "codemirror_mode": {
    "name": "ipython",
    "version": 3
   },
   "file_extension": ".py",
   "mimetype": "text/x-python",
   "name": "python",
   "nbconvert_exporter": "python",
   "pygments_lexer": "ipython3",
   "version": "3.9.2"
  }
 },
 "nbformat": 4,
 "nbformat_minor": 4
}
